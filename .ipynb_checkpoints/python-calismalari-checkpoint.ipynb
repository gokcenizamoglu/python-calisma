{
 "cells": [
  {
   "cell_type": "code",
   "execution_count": 3,
   "id": "0c455ee1-5ffb-480c-bea1-1d4fcb37b26a",
   "metadata": {},
   "outputs": [
    {
     "data": {
      "text/plain": [
       "str"
      ]
     },
     "execution_count": 3,
     "metadata": {},
     "output_type": "execute_result"
    }
   ],
   "source": [
    "type(\"132\")"
   ]
  },
  {
   "cell_type": "code",
   "execution_count": 4,
   "id": "f0252379-7db4-4c1f-9a77-2b1eeb4603a3",
   "metadata": {},
   "outputs": [
    {
     "data": {
      "text/plain": [
       "list"
      ]
     },
     "execution_count": 4,
     "metadata": {},
     "output_type": "execute_result"
    }
   ],
   "source": [
    "type([1,2,3])"
   ]
  },
  {
   "cell_type": "code",
   "execution_count": 5,
   "id": "259f04fc",
   "metadata": {},
   "outputs": [
    {
     "data": {
      "text/plain": [
       "10"
      ]
     },
     "execution_count": 5,
     "metadata": {},
     "output_type": "execute_result"
    }
   ],
   "source": [
    "len(\"karakartal\")"
   ]
  },
  {
   "cell_type": "code",
   "execution_count": 16,
   "id": "239f466f",
   "metadata": {},
   "outputs": [],
   "source": [
    "bjk = \"karakartal\""
   ]
  },
  {
   "cell_type": "code",
   "execution_count": 22,
   "id": "b31c7987",
   "metadata": {},
   "outputs": [
    {
     "data": {
      "text/plain": [
       "['__add__',\n",
       " '__class__',\n",
       " '__contains__',\n",
       " '__delattr__',\n",
       " '__dir__',\n",
       " '__doc__',\n",
       " '__eq__',\n",
       " '__format__',\n",
       " '__ge__',\n",
       " '__getattribute__',\n",
       " '__getitem__',\n",
       " '__getnewargs__',\n",
       " '__gt__',\n",
       " '__hash__',\n",
       " '__init__',\n",
       " '__init_subclass__',\n",
       " '__iter__',\n",
       " '__le__',\n",
       " '__len__',\n",
       " '__lt__',\n",
       " '__mod__',\n",
       " '__mul__',\n",
       " '__ne__',\n",
       " '__new__',\n",
       " '__reduce__',\n",
       " '__reduce_ex__',\n",
       " '__repr__',\n",
       " '__rmod__',\n",
       " '__rmul__',\n",
       " '__setattr__',\n",
       " '__sizeof__',\n",
       " '__str__',\n",
       " '__subclasshook__',\n",
       " 'capitalize',\n",
       " 'casefold',\n",
       " 'center',\n",
       " 'count',\n",
       " 'encode',\n",
       " 'endswith',\n",
       " 'expandtabs',\n",
       " 'find',\n",
       " 'format',\n",
       " 'format_map',\n",
       " 'index',\n",
       " 'isalnum',\n",
       " 'isalpha',\n",
       " 'isascii',\n",
       " 'isdecimal',\n",
       " 'isdigit',\n",
       " 'isidentifier',\n",
       " 'islower',\n",
       " 'isnumeric',\n",
       " 'isprintable',\n",
       " 'isspace',\n",
       " 'istitle',\n",
       " 'isupper',\n",
       " 'join',\n",
       " 'ljust',\n",
       " 'lower',\n",
       " 'lstrip',\n",
       " 'maketrans',\n",
       " 'partition',\n",
       " 'removeprefix',\n",
       " 'removesuffix',\n",
       " 'replace',\n",
       " 'rfind',\n",
       " 'rindex',\n",
       " 'rjust',\n",
       " 'rpartition',\n",
       " 'rsplit',\n",
       " 'rstrip',\n",
       " 'split',\n",
       " 'splitlines',\n",
       " 'startswith',\n",
       " 'strip',\n",
       " 'swapcase',\n",
       " 'title',\n",
       " 'translate',\n",
       " 'upper',\n",
       " 'zfill']"
      ]
     },
     "execution_count": 22,
     "metadata": {},
     "output_type": "execute_result"
    }
   ],
   "source": [
    "dir(bjk) #methods"
   ]
  },
  {
   "cell_type": "code",
   "execution_count": 9,
   "id": "6d76e314",
   "metadata": {},
   "outputs": [
    {
     "data": {
      "text/plain": [
       "'Karakartal'"
      ]
     },
     "execution_count": 9,
     "metadata": {},
     "output_type": "execute_result"
    }
   ],
   "source": [
    "bjk.capitalize()"
   ]
  },
  {
   "cell_type": "code",
   "execution_count": 11,
   "id": "f2f010f2",
   "metadata": {},
   "outputs": [
    {
     "data": {
      "text/plain": [
       "False"
      ]
     },
     "execution_count": 11,
     "metadata": {},
     "output_type": "execute_result"
    }
   ],
   "source": [
    "bjk.isnumeric()"
   ]
  },
  {
   "cell_type": "code",
   "execution_count": 14,
   "id": "cf5beb1a",
   "metadata": {},
   "outputs": [
    {
     "data": {
      "text/plain": [
       "'korokortol'"
      ]
     },
     "execution_count": 14,
     "metadata": {},
     "output_type": "execute_result"
    }
   ],
   "source": [
    "bjk.replace(\"a\",\"o\")"
   ]
  },
  {
   "cell_type": "code",
   "execution_count": 23,
   "id": "353248ec",
   "metadata": {},
   "outputs": [
    {
     "data": {
      "text/plain": [
       "'k'"
      ]
     },
     "execution_count": 23,
     "metadata": {},
     "output_type": "execute_result"
    }
   ],
   "source": [
    "bjk[0] #substrins"
   ]
  },
  {
   "cell_type": "code",
   "execution_count": 19,
   "id": "449206d7",
   "metadata": {},
   "outputs": [
    {
     "data": {
      "text/plain": [
       "'arak'"
      ]
     },
     "execution_count": 19,
     "metadata": {},
     "output_type": "execute_result"
    }
   ],
   "source": [
    "bjk[1:5]"
   ]
  },
  {
   "cell_type": "code",
   "execution_count": 24,
   "id": "092583cb",
   "metadata": {},
   "outputs": [],
   "source": [
    "a = 3"
   ]
  },
  {
   "cell_type": "code",
   "execution_count": 25,
   "id": "fafd4848",
   "metadata": {},
   "outputs": [],
   "source": [
    "b = 5.2"
   ]
  },
  {
   "cell_type": "code",
   "execution_count": 26,
   "id": "9f611ad7",
   "metadata": {},
   "outputs": [],
   "source": [
    "c = \"123\""
   ]
  },
  {
   "cell_type": "code",
   "execution_count": 27,
   "id": "16bd2ed9",
   "metadata": {},
   "outputs": [
    {
     "data": {
      "text/plain": [
       "int"
      ]
     },
     "execution_count": 27,
     "metadata": {},
     "output_type": "execute_result"
    }
   ],
   "source": [
    "type(a)"
   ]
  },
  {
   "cell_type": "code",
   "execution_count": 28,
   "id": "5951dcb7",
   "metadata": {},
   "outputs": [
    {
     "data": {
      "text/plain": [
       "3.0"
      ]
     },
     "execution_count": 28,
     "metadata": {},
     "output_type": "execute_result"
    }
   ],
   "source": [
    "float(a)"
   ]
  },
  {
   "cell_type": "code",
   "execution_count": 29,
   "id": "9dce7b17",
   "metadata": {},
   "outputs": [
    {
     "data": {
      "text/plain": [
       "float"
      ]
     },
     "execution_count": 29,
     "metadata": {},
     "output_type": "execute_result"
    }
   ],
   "source": [
    "type(b)"
   ]
  },
  {
   "cell_type": "code",
   "execution_count": 30,
   "id": "391ed738",
   "metadata": {},
   "outputs": [
    {
     "data": {
      "text/plain": [
       "'5.2'"
      ]
     },
     "execution_count": 30,
     "metadata": {},
     "output_type": "execute_result"
    }
   ],
   "source": [
    "str(b)"
   ]
  },
  {
   "cell_type": "code",
   "execution_count": 31,
   "id": "8b0710c1",
   "metadata": {},
   "outputs": [
    {
     "data": {
      "text/plain": [
       "str"
      ]
     },
     "execution_count": 31,
     "metadata": {},
     "output_type": "execute_result"
    }
   ],
   "source": [
    "type(c)"
   ]
  },
  {
   "cell_type": "code",
   "execution_count": 32,
   "id": "d22a505c",
   "metadata": {},
   "outputs": [
    {
     "data": {
      "text/plain": [
       "123"
      ]
     },
     "execution_count": 32,
     "metadata": {},
     "output_type": "execute_result"
    }
   ],
   "source": [
    "int(c)"
   ]
  },
  {
   "cell_type": "code",
   "execution_count": 33,
   "id": "5e253d9f",
   "metadata": {},
   "outputs": [],
   "source": [
    "grades = [100,90,73]"
   ]
  },
  {
   "cell_type": "code",
   "execution_count": 34,
   "id": "55d38b39",
   "metadata": {},
   "outputs": [
    {
     "data": {
      "text/plain": [
       "list"
      ]
     },
     "execution_count": 34,
     "metadata": {},
     "output_type": "execute_result"
    }
   ],
   "source": [
    "type(grades)"
   ]
  },
  {
   "cell_type": "code",
   "execution_count": 35,
   "id": "94e6b4dd",
   "metadata": {},
   "outputs": [
    {
     "data": {
      "text/plain": [
       "3"
      ]
     },
     "execution_count": 35,
     "metadata": {},
     "output_type": "execute_result"
    }
   ],
   "source": [
    "len(grades)"
   ]
  },
  {
   "cell_type": "code",
   "execution_count": 37,
   "id": "3e859273",
   "metadata": {},
   "outputs": [],
   "source": [
    "grades2 = [88,93,98] #lists"
   ]
  },
  {
   "cell_type": "code",
   "execution_count": 38,
   "id": "bddf7a78",
   "metadata": {},
   "outputs": [],
   "source": [
    "total_list = grades + grades2"
   ]
  },
  {
   "cell_type": "code",
   "execution_count": 39,
   "id": "368a5ffe",
   "metadata": {},
   "outputs": [
    {
     "name": "stdout",
     "output_type": "stream",
     "text": [
      "[100, 90, 73, 88, 93, 98]\n"
     ]
    }
   ],
   "source": [
    "print(total_list)"
   ]
  },
  {
   "cell_type": "code",
   "execution_count": 40,
   "id": "acc43f7c",
   "metadata": {},
   "outputs": [
    {
     "name": "stdout",
     "output_type": "stream",
     "text": [
      "[100, 90, 37, 88, 93, 98]\n"
     ]
    }
   ],
   "source": [
    "total_list[2] = 37\n",
    "print(total_list)"
   ]
  },
  {
   "cell_type": "code",
   "execution_count": 41,
   "id": "3b88c9b8",
   "metadata": {},
   "outputs": [
    {
     "data": {
      "text/plain": [
       "['__add__',\n",
       " '__class__',\n",
       " '__class_getitem__',\n",
       " '__contains__',\n",
       " '__delattr__',\n",
       " '__delitem__',\n",
       " '__dir__',\n",
       " '__doc__',\n",
       " '__eq__',\n",
       " '__format__',\n",
       " '__ge__',\n",
       " '__getattribute__',\n",
       " '__getitem__',\n",
       " '__gt__',\n",
       " '__hash__',\n",
       " '__iadd__',\n",
       " '__imul__',\n",
       " '__init__',\n",
       " '__init_subclass__',\n",
       " '__iter__',\n",
       " '__le__',\n",
       " '__len__',\n",
       " '__lt__',\n",
       " '__mul__',\n",
       " '__ne__',\n",
       " '__new__',\n",
       " '__reduce__',\n",
       " '__reduce_ex__',\n",
       " '__repr__',\n",
       " '__reversed__',\n",
       " '__rmul__',\n",
       " '__setattr__',\n",
       " '__setitem__',\n",
       " '__sizeof__',\n",
       " '__str__',\n",
       " '__subclasshook__',\n",
       " 'append',\n",
       " 'clear',\n",
       " 'copy',\n",
       " 'count',\n",
       " 'extend',\n",
       " 'index',\n",
       " 'insert',\n",
       " 'pop',\n",
       " 'remove',\n",
       " 'reverse',\n",
       " 'sort']"
      ]
     },
     "execution_count": 41,
     "metadata": {},
     "output_type": "execute_result"
    }
   ],
   "source": [
    "dir(total_list)"
   ]
  },
  {
   "cell_type": "code",
   "execution_count": 42,
   "id": "1b694e0f",
   "metadata": {},
   "outputs": [],
   "source": [
    "total_list.append(88)"
   ]
  },
  {
   "cell_type": "code",
   "execution_count": 43,
   "id": "cd4e1428",
   "metadata": {},
   "outputs": [
    {
     "data": {
      "text/plain": [
       "[100, 90, 37, 88, 93, 98, 88]"
      ]
     },
     "execution_count": 43,
     "metadata": {},
     "output_type": "execute_result"
    }
   ],
   "source": [
    "total_list"
   ]
  },
  {
   "cell_type": "code",
   "execution_count": 44,
   "id": "9db9d9b0",
   "metadata": {},
   "outputs": [
    {
     "data": {
      "text/plain": [
       "[43, 100, 90, 37, 88, 93, 98, 88]"
      ]
     },
     "execution_count": 44,
     "metadata": {},
     "output_type": "execute_result"
    }
   ],
   "source": [
    "total_list.insert(0,43)\n",
    "total_list"
   ]
  },
  {
   "cell_type": "code",
   "execution_count": 45,
   "id": "e3951870",
   "metadata": {},
   "outputs": [
    {
     "data": {
      "text/plain": [
       "[43, 100, 90, 37, 88, 93, 98]"
      ]
     },
     "execution_count": 45,
     "metadata": {},
     "output_type": "execute_result"
    }
   ],
   "source": [
    "total_list.pop()\n",
    "total_list"
   ]
  },
  {
   "cell_type": "code",
   "execution_count": 48,
   "id": "fc0671ff",
   "metadata": {},
   "outputs": [
    {
     "data": {
      "text/plain": [
       "1"
      ]
     },
     "execution_count": 48,
     "metadata": {},
     "output_type": "execute_result"
    }
   ],
   "source": [
    "total_list.count(37) // returns the number of times the specified element appears in the list."
   ]
  },
  {
   "cell_type": "code",
   "execution_count": 49,
   "id": "66f2ff9c",
   "metadata": {},
   "outputs": [
    {
     "data": {
      "text/plain": [
       "3"
      ]
     },
     "execution_count": 49,
     "metadata": {},
     "output_type": "execute_result"
    }
   ],
   "source": [
    "total_list.index(37)"
   ]
  },
  {
   "cell_type": "code",
   "execution_count": 50,
   "id": "872ab09c",
   "metadata": {},
   "outputs": [
    {
     "data": {
      "text/plain": [
       "[98, 93, 88, 37, 90, 100, 43]"
      ]
     },
     "execution_count": 50,
     "metadata": {},
     "output_type": "execute_result"
    }
   ],
   "source": [
    "total_list.reverse()\n",
    "total_list"
   ]
  },
  {
   "cell_type": "code",
   "execution_count": 51,
   "id": "d578fd13",
   "metadata": {},
   "outputs": [
    {
     "data": {
      "text/plain": [
       "[37, 43, 88, 90, 93, 98, 100]"
      ]
     },
     "execution_count": 51,
     "metadata": {},
     "output_type": "execute_result"
    }
   ],
   "source": [
    "total_list.sort()\n",
    "total_list"
   ]
  },
  {
   "cell_type": "code",
   "execution_count": 52,
   "id": "9932e852",
   "metadata": {},
   "outputs": [
    {
     "data": {
      "text/plain": [
       "[37, 43, 88, 90, 93, 98, 100, 75, 87]"
      ]
     },
     "execution_count": 52,
     "metadata": {},
     "output_type": "execute_result"
    }
   ],
   "source": [
    "total_list.extend([75,87])\n",
    "total_list"
   ]
  },
  {
   "cell_type": "code",
   "execution_count": 53,
   "id": "c7881fb6",
   "metadata": {},
   "outputs": [
    {
     "data": {
      "text/plain": [
       "[]"
      ]
     },
     "execution_count": 53,
     "metadata": {},
     "output_type": "execute_result"
    }
   ],
   "source": [
    "total_list.clear()\n",
    "total_list"
   ]
  },
  {
   "cell_type": "code",
   "execution_count": null,
   "id": "723bc278",
   "metadata": {},
   "outputs": [],
   "source": []
  },
  {
   "cell_type": "code",
   "execution_count": null,
   "id": "9bff0d52",
   "metadata": {},
   "outputs": [],
   "source": []
  }
 ],
 "metadata": {
  "kernelspec": {
   "display_name": "Python 3 (ipykernel)",
   "language": "python",
   "name": "python3"
  },
  "language_info": {
   "codemirror_mode": {
    "name": "ipython",
    "version": 3
   },
   "file_extension": ".py",
   "mimetype": "text/x-python",
   "name": "python",
   "nbconvert_exporter": "python",
   "pygments_lexer": "ipython3",
   "version": "3.9.13"
  }
 },
 "nbformat": 4,
 "nbformat_minor": 5
}
